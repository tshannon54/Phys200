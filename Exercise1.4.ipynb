{
 "metadata": {
  "name": "Exercise1.4"
 },
 "nbformat": 3,
 "worksheets": [
  {
   "cells": [
    {
     "cell_type": "code",
     "collapsed": false,
     "input": [
      "miles = 10/1.61",
      "avgTimePerMile = 43.5/miles",
      "avgSpeedInMPH = (a/43.5)*60",
      "print(avgTimePerMile)",
      "print(avgSpeedInMPH)"
     ],
     "language": "python",
     "outputs": [
      {
       "output_type": "stream",
       "stream": "stdout",
       "text": [
        "7.0035",
        "8.56714499893"
       ]
      }
     ],
     "prompt_number": 5
    },
    {
     "cell_type": "code",
     "collapsed": true,
     "input": [],
     "language": "python",
     "outputs": []
    }
   ]
  }
 ]
}