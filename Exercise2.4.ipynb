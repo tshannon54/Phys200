{
 "metadata": {
  "name": "Exercise2.4"
 },
 "nbformat": 3,
 "worksheets": [
  {
   "cells": [
    {
     "cell_type": "code",
     "collapsed": false,
     "input": [
      "pi = 3.141592",
      "volume = (4.0/3.0)*pi*5*5*5",
      "print volume"
     ],
     "language": "python",
     "outputs": [
      {
       "output_type": "stream",
       "stream": "stdout",
       "text": [
        "523.598666667"
       ]
      }
     ],
     "prompt_number": 1
    },
    {
     "cell_type": "code",
     "collapsed": false,
     "input": [
      "numberOfBooks = 60",
      "pricePerBook = 0.6*24.95",
      "shippingCost = 3.0 + 0.75*59",
      "totalCost = shippingCost + pricePerBook*numberOfBooks",
      "print totalCost"
     ],
     "language": "python",
     "outputs": [
      {
       "output_type": "stream",
       "stream": "stdout",
       "text": [
        "945.45"
       ]
      }
     ],
     "prompt_number": 2
    },
    {
     "cell_type": "code",
     "collapsed": false,
     "input": [
      "timeRunning = 1.0*8.25 + 3.0*7.2 + 1.0*8.25",
      "print timeRunning  #I get timeRunning is 38.1 so leaving at 6:52 will arrive home at 7:30"
     ],
     "language": "python",
     "outputs": [
      {
       "output_type": "stream",
       "stream": "stdout",
       "text": [
        "38.1"
       ]
      }
     ],
     "prompt_number": 5
    },
    {
     "cell_type": "code",
     "collapsed": true,
     "input": [],
     "language": "python",
     "outputs": []
    }
   ]
  }
 ]
}