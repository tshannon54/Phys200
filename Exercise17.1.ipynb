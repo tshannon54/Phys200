{
 "metadata": {
  "name": "Exercise17.1"
 },
 "nbformat": 3,
 "worksheets": [
  {
   "cells": [
    {
     "cell_type": "code",
     "collapsed": false,
     "input": [
      "class Time(object):",
      "    def time_to_int(self): #original version from 16.4 put inside class as a method",
      "        minutes = self.hour * 60 + self.minute",
      "        seconds = minutes * 60 + self.second",
      "        return seconds",
      "    def print_time(self):  #also put this method in as a test",
      "        print '%.2d:%.2d:%.2d' % (self.hour, self.minute, self.second)"
     ],
     "language": "python",
     "outputs": [],
     "prompt_number": 22
    },
    {
     "cell_type": "code",
     "collapsed": false,
     "input": [
      "start = Time()",
      "start.hour = 8",
      "start.minute = 15",
      "start.second = 25"
     ],
     "language": "python",
     "outputs": [],
     "prompt_number": 23
    },
    {
     "cell_type": "code",
     "collapsed": false,
     "input": [
      "start.print_time()  #tested what was in chapter to make sure all is going well."
     ],
     "language": "python",
     "outputs": [
      {
       "output_type": "stream",
       "stream": "stdout",
       "text": [
        "08:15:25"
       ]
      }
     ],
     "prompt_number": 24
    },
    {
     "cell_type": "code",
     "collapsed": false,
     "input": [
      "start.time_to_int()   #tested time_to_int as method and it works."
     ],
     "language": "python",
     "outputs": [
      {
       "output_type": "pyout",
       "prompt_number": 26,
       "text": [
        "29725"
       ]
      }
     ],
     "prompt_number": 26
    },
    {
     "cell_type": "code",
     "collapsed": true,
     "input": [
      "#to rewrite int_to_time as a method, you would invoke the method on an integer"
     ],
     "language": "python",
     "outputs": []
    }
   ]
  }
 ]
}