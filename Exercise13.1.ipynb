{
 "metadata": {
  "name": "Exercise13.1"
 },
 "nbformat": 3,
 "worksheets": [
  {
   "cells": [
    {
     "cell_type": "code",
     "collapsed": false,
     "input": [
      "def print_file(filename):  #I made a function to first print all the words in the file so we can see what they are before any changes are made.",
      "    myfile = open(filename)",
      "    for line in myfile:",
      "            print line"
     ],
     "language": "python",
     "outputs": [],
     "prompt_number": 44
    },
    {
     "cell_type": "code",
     "collapsed": false,
     "input": [
      "print_file('words2.txt') #Here are the original words in the file"
     ],
     "language": "python",
     "outputs": [
      {
       "output_type": "stream",
       "stream": "stdout",
       "text": [
        "Taylor.",
        "",
        "these,",
        "",
        "WOW",
        "",
        "FLOWER",
        "",
        "peanut...",
        "",
        "\ttab"
       ]
      }
     ],
     "prompt_number": 48
    },
    {
     "cell_type": "code",
     "collapsed": false,
     "input": [
      "from string import punctuation, whitespace, digits",
      " ",
      "def breakfile(filename):",
      "        myfile = open(filename)",
      "        for line in myfile.split():",
      "                line = line.strip(punctuation + whitespace + digits)",
      "                line = line.lower()",
      "                   ",
      " ",
      "hist = process_file('words2.txt')"
     ],
     "language": "python",
     "outputs": [],
     "prompt_number": 61
    },
    {
     "cell_type": "code",
     "collapsed": false,
     "input": [
      "print hist"
     ],
     "language": "python",
     "outputs": [
      {
       "output_type": "stream",
       "stream": "stdout",
       "text": [
        "{'taylor': 1, 'these': 1, 'peanut': 1, 'wow': 1, 'flower': 1, 'tab': 1}"
       ]
      }
     ],
     "prompt_number": 62
    },
    {
     "cell_type": "code",
     "collapsed": false,
     "input": [],
     "language": "python",
     "outputs": [],
     "prompt_number": 38
    },
    {
     "cell_type": "code",
     "collapsed": true,
     "input": [],
     "language": "python",
     "outputs": []
    }
   ]
  }
 ]
}