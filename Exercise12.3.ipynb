{
 "metadata": {
  "name": "Exercise12.3"
 },
 "nbformat": 3,
 "worksheets": [
  {
   "cells": [
    {
     "cell_type": "code",
     "collapsed": true,
     "input": [
      "def histogram(s):",
      "    d = dict()",
      "    for c in s:",
      "        if c not in d:",
      "            d[c] = 1",
      "        else:",
      "            d[c] += 1",
      "    return d"
     ],
     "language": "python",
     "outputs": [],
     "prompt_number": 1
    },
    {
     "cell_type": "code",
     "collapsed": false,
     "input": [
      "def most_frequent(astring):",
      "    hist = histogram(astring)",
      "    inv = dict()",
      "    for letter, freq in hist.items():",
      "                inv.setdefault(freq, []).append(letter)",
      " ",
      "    for freq in sorted(inv, reverse=True):",
      "            print(inv[freq])",
      "    "
     ],
     "language": "python",
     "outputs": [],
     "prompt_number": 33
    },
    {
     "cell_type": "code",
     "collapsed": false,
     "input": [
      "most_frequent('banana')  #printed them from highest frequency (a) to lowest(b)"
     ],
     "language": "python",
     "outputs": [
      {
       "output_type": "stream",
       "stream": "stdout",
       "text": [
        "['a']",
        "['n']",
        "['b']"
       ]
      }
     ],
     "prompt_number": 34
    },
    {
     "cell_type": "code",
     "collapsed": false,
     "input": [
      "most_frequent('meeooowwww')  #expect to see w, o, e, m ...and do"
     ],
     "language": "python",
     "outputs": [
      {
       "output_type": "stream",
       "stream": "stdout",
       "text": [
        "['w']",
        "['o']",
        "['e']",
        "['m']"
       ]
      }
     ],
     "prompt_number": 35
    },
    {
     "cell_type": "code",
     "collapsed": true,
     "input": [],
     "language": "python",
     "outputs": []
    }
   ]
  }
 ]
}