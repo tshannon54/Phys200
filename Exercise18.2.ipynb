{
 "metadata": {
  "name": "Exercise18.2"
 },
 "nbformat": 3,
 "worksheets": [
  {
   "cells": [
    {
     "cell_type": "code",
     "collapsed": true,
     "input": [
      "class Card(object):",
      "    \"\"\"Represents a standard playing card.\"\"\"",
      "    ",
      "    def __init__(self, suit=0, rank=2):",
      "        self.suit = suit",
      "        self.rank = rank",
      "    ",
      "    suit_names = ['Clubs', 'Diamonds', 'Hearts', 'Spades']",
      "    rank_names = [None, 'Ace', '2', '3', '4', '5', '6', '7', '8', '9', '10', 'Jack', 'Queen', 'King']",
      "    ",
      "    def __str__(self):",
      "        return '%s of %s' % (Card.rank_names[self.rank], Card.suit_names[self.suit])",
      "    ",
      "    def __cmp__(self, other):",
      "        if self.suit > other.suit: return 1",
      "        if self.suit < other.suit: return -1",
      "        if self.rank > other.rank: return 1",
      "        if self.rank < other.rank: return -1",
      "        return 0"
     ],
     "language": "python",
     "outputs": [],
     "prompt_number": 11
    },
    {
     "cell_type": "code",
     "collapsed": false,
     "input": [
      "card1 = Card(2,11)",
      "print card1"
     ],
     "language": "python",
     "outputs": [
      {
       "output_type": "stream",
       "stream": "stdout",
       "text": [
        "Jack of Hearts"
       ]
      }
     ],
     "prompt_number": 12
    },
    {
     "cell_type": "code",
     "collapsed": true,
     "input": [
      "import random",
      "",
      "class Deck(object):",
      "    def __init__(self):",
      "        self.cards = []",
      "        for suit in range(4):",
      "            for rank in range(1, 14):",
      "                card = Card(suit, rank)",
      "                self.cards.append(card)",
      "    ",
      "    def __str__(self):",
      "        res = []",
      "        for card in self.cards:",
      "            res.append(str(card))",
      "        return '\\n'.join(res)",
      "    ",
      "    def pop_card(self):",
      "        return self.cards.pop()",
      "    ",
      "    def add_card(self, card):",
      "        self.cards.append(card)",
      "        ",
      "    def shuffle(self):",
      "        random.shuffle(self.cards)",
      "    ",
      "    def sort(self):",
      "        self.cards.sort()"
     ],
     "language": "python",
     "outputs": [],
     "prompt_number": 16
    },
    {
     "cell_type": "code",
     "collapsed": false,
     "input": [
      "deck = Deck()",
      "deck.sort()",
      "print deck"
     ],
     "language": "python",
     "outputs": [
      {
       "output_type": "stream",
       "stream": "stdout",
       "text": [
        "Ace of Clubs",
        "2 of Clubs",
        "3 of Clubs",
        "4 of Clubs",
        "5 of Clubs",
        "6 of Clubs",
        "7 of Clubs",
        "8 of Clubs",
        "9 of Clubs",
        "10 of Clubs",
        "Jack of Clubs",
        "Queen of Clubs",
        "King of Clubs",
        "Ace of Diamonds",
        "2 of Diamonds",
        "3 of Diamonds",
        "4 of Diamonds",
        "5 of Diamonds",
        "6 of Diamonds",
        "7 of Diamonds",
        "8 of Diamonds",
        "9 of Diamonds",
        "10 of Diamonds",
        "Jack of Diamonds",
        "Queen of Diamonds",
        "King of Diamonds",
        "Ace of Hearts",
        "2 of Hearts",
        "3 of Hearts",
        "4 of Hearts",
        "5 of Hearts",
        "6 of Hearts",
        "7 of Hearts",
        "8 of Hearts",
        "9 of Hearts",
        "10 of Hearts",
        "Jack of Hearts",
        "Queen of Hearts",
        "King of Hearts",
        "Ace of Spades",
        "2 of Spades",
        "3 of Spades",
        "4 of Spades",
        "5 of Spades",
        "6 of Spades",
        "7 of Spades",
        "8 of Spades",
        "9 of Spades",
        "10 of Spades",
        "Jack of Spades",
        "Queen of Spades",
        "King of Spades"
       ]
      }
     ],
     "prompt_number": 18
    },
    {
     "cell_type": "code",
     "collapsed": true,
     "input": [],
     "language": "python",
     "outputs": []
    }
   ]
  }
 ]
}