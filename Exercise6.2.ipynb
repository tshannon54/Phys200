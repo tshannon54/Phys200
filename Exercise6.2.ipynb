{
 "metadata": {
  "name": "Exercise6.2"
 },
 "nbformat": 3,
 "worksheets": [
  {
   "cells": [
    {
     "cell_type": "code",
     "collapsed": true,
     "input": [
      "def hypotenuse(l1, l2):",
      "    return 0.0"
     ],
     "language": "python",
     "outputs": [],
     "prompt_number": 1
    },
    {
     "cell_type": "code",
     "collapsed": false,
     "input": [
      "hypotenuse(3, 4)"
     ],
     "language": "python",
     "outputs": [
      {
       "output_type": "pyout",
       "prompt_number": 2,
       "text": [
        "0.0"
       ]
      }
     ],
     "prompt_number": 2
    },
    {
     "cell_type": "code",
     "collapsed": false,
     "input": [
      "def hypotenuse(l1, l2):",
      "    l1squared = l1**2",
      "    l2squared = l2**2",
      "    print 'length one squared is: ', l1squared",
      "    print 'length two squared is: ', l2squared",
      "    return 0.0"
     ],
     "language": "python",
     "outputs": [],
     "prompt_number": 6
    },
    {
     "cell_type": "code",
     "collapsed": false,
     "input": [
      "hypotenuse(3, 4)"
     ],
     "language": "python",
     "outputs": [
      {
       "output_type": "stream",
       "stream": "stdout",
       "text": [
        "length one squared is:  9",
        "length two squared is:  16"
       ]
      },
      {
       "output_type": "pyout",
       "prompt_number": 7,
       "text": [
        "0.0"
       ]
      }
     ],
     "prompt_number": 7
    },
    {
     "cell_type": "code",
     "collapsed": true,
     "input": [
      "def hypotenuse(l1, l2):",
      "    l1squared = l1**2",
      "    l2squared = l2**2",
      "    sumofsquares = l1squared + l2squared",
      "    print 'the sum of the squares of the two lengths is: ', sumofsquares",
      "    return 0.0"
     ],
     "language": "python",
     "outputs": [],
     "prompt_number": 8
    },
    {
     "cell_type": "code",
     "collapsed": false,
     "input": [
      "hypotenuse(3, 4)"
     ],
     "language": "python",
     "outputs": [
      {
       "output_type": "stream",
       "stream": "stdout",
       "text": [
        "the sum of the squares of the two lengths is:  25"
       ]
      },
      {
       "output_type": "pyout",
       "prompt_number": 9,
       "text": [
        "0.0"
       ]
      }
     ],
     "prompt_number": 9
    },
    {
     "cell_type": "code",
     "collapsed": true,
     "input": [
      "import math",
      "def hypotenuse(l1, l2):",
      "    l1squared = l1**2",
      "    l2squared = l2**2",
      "    sumofsquares = l1squared + l2squared",
      "    length_hypotenuse = math.sqrt(sumofsquares)",
      "    return length_hypotenuse"
     ],
     "language": "python",
     "outputs": [],
     "prompt_number": 10
    },
    {
     "cell_type": "code",
     "collapsed": false,
     "input": [
      "hypotenuse(3, 4)"
     ],
     "language": "python",
     "outputs": [
      {
       "output_type": "pyout",
       "prompt_number": 11,
       "text": [
        "5.0"
       ]
      }
     ],
     "prompt_number": 11
    },
    {
     "cell_type": "code",
     "collapsed": true,
     "input": [],
     "language": "python",
     "outputs": []
    }
   ]
  }
 ]
}