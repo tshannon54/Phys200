{
 "metadata": {
  "name": "Exercise7.2"
 },
 "nbformat": 3,
 "worksheets": [
  {
   "cells": [
    {
     "cell_type": "code",
     "collapsed": false,
     "input": [
      "def square_root(a):  #type numbers in as float. Ex: 9 as 9.0",
      "    x = a-1",
      "    epsilon = .0000001",
      "    while True:",
      "        print x",
      "        y = (x + a/x) / 2",
      "        if abs(y-x) < epsilon:",
      "            break",
      "        x = y"
     ],
     "language": "python",
     "outputs": [],
     "prompt_number": 18
    },
    {
     "cell_type": "code",
     "collapsed": false,
     "input": [
      "square_root(25.0)"
     ],
     "language": "python",
     "outputs": [
      {
       "output_type": "stream",
       "stream": "stdout",
       "text": [
        "24.0",
        "12.5208333333",
        "7.25875277316",
        "5.35143531194",
        "5.01153959371",
        "5.00001328556",
        "5.00000000002"
       ]
      }
     ],
     "prompt_number": 20
    },
    {
     "cell_type": "code",
     "collapsed": true,
     "input": [],
     "language": "python",
     "outputs": []
    }
   ]
  }
 ]
}