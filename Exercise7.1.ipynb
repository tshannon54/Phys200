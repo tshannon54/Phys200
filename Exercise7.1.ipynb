{
 "metadata": {
  "name": "Exercise7.1"
 },
 "nbformat": 3,
 "worksheets": [
  {
   "cells": [
    {
     "cell_type": "code",
     "collapsed": false,
     "input": [
      "def print_n(s,n):  #This is the original from 5.8. Uses recursion",
      "    if n <= 0:",
      "        return",
      "    print s ",
      "    print_n(s, n-1)"
     ],
     "language": "python",
     "outputs": [],
     "prompt_number": 14
    },
    {
     "cell_type": "code",
     "collapsed": false,
     "input": [
      "print_n('hello', 5)"
     ],
     "language": "python",
     "outputs": [
      {
       "output_type": "stream",
       "stream": "stdout",
       "text": [
        "hello",
        "hello",
        "hello",
        "hello",
        "hello"
       ]
      }
     ],
     "prompt_number": 15
    },
    {
     "cell_type": "code",
     "collapsed": false,
     "input": [
      "def print_n2(s,n):  #My new version. Uses iteration",
      "    while n > 0:",
      "        print s",
      "        n = n-1",
      "    ",
      "    "
     ],
     "language": "python",
     "outputs": [],
     "prompt_number": 18
    },
    {
     "cell_type": "code",
     "collapsed": false,
     "input": [
      "print_n2('apple', 3)"
     ],
     "language": "python",
     "outputs": [
      {
       "output_type": "stream",
       "stream": "stdout",
       "text": [
        "apple",
        "apple",
        "apple"
       ]
      }
     ],
     "prompt_number": 19
    },
    {
     "cell_type": "code",
     "collapsed": true,
     "input": [],
     "language": "python",
     "outputs": []
    }
   ]
  }
 ]
}