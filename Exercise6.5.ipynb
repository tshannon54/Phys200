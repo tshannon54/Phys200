{
 "metadata": {
  "name": "Exercise6.5"
 },
 "nbformat": 3,
 "worksheets": [
  {
   "cells": [
    {
     "cell_type": "code",
     "collapsed": true,
     "input": [
      "def ack(m,n):",
      "    if m == 0:",
      "        result = n + 1",
      "        return result",
      "    if m > 0 and n == 0:",
      "        result = ack(m-1, 1)",
      "        return result",
      "    if m > 0 and n > 0:",
      "        result = ack(m-1, ack(m, n-1))",
      "        return result",
      "    "
     ],
     "language": "python",
     "outputs": [],
     "prompt_number": 1
    },
    {
     "cell_type": "code",
     "collapsed": false,
     "input": [
      "ack(3,4) # for larger values, the kernel takes an enormous time to compute"
     ],
     "language": "python",
     "outputs": [
      {
       "output_type": "pyout",
       "prompt_number": 2,
       "text": [
        "125"
       ]
      }
     ],
     "prompt_number": 2
    },
    {
     "cell_type": "code",
     "collapsed": true,
     "input": [],
     "language": "python",
     "outputs": []
    }
   ]
  }
 ]
}