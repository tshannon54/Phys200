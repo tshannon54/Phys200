{
 "metadata": {
  "name": "Exercise11.3"
 },
 "nbformat": 3,
 "worksheets": [
  {
   "cells": [
    {
     "cell_type": "code",
     "collapsed": false,
     "input": [
      "def histogram(s):",
      "    d = dict()",
      "    for c in s:",
      "        if c not in d:",
      "            d[c] = 1",
      "        else:",
      "            d[c] += 1",
      "    return d"
     ],
     "language": "python",
     "outputs": [],
     "prompt_number": 44
    },
    {
     "cell_type": "code",
     "collapsed": false,
     "input": [
      "h = histogram('barbeque')",
      "def print_hist(ahist):",
      "    f = h.keys()",
      "    for key in sorted(ahist.iterkeys()):",
      "        print key, ahist[key]",
      "",
      "print_hist(h)",
      "   ",
      "#printed them out in alphabetical order below   ",
      "       "
     ],
     "language": "python",
     "outputs": [
      {
       "output_type": "stream",
       "stream": "stdout",
       "text": [
        "",
        "a 1",
        "b 2",
        "e 2",
        "q 1",
        "r 1",
        "u 1"
       ]
      }
     ],
     "prompt_number": 51
    },
    {
     "cell_type": "code",
     "collapsed": false,
     "input": [
      "l = histogram('adefcb')",
      "print_hist(l)",
      "",
      "#can see that it sorted all the letters and printed them in alphabetical order as expected"
     ],
     "language": "python",
     "outputs": [
      {
       "output_type": "stream",
       "stream": "stdout",
       "text": [
        "a 1",
        "b 1",
        "c 1",
        "d 1",
        "e 1",
        "f 1"
       ]
      }
     ],
     "prompt_number": 52
    },
    {
     "cell_type": "code",
     "collapsed": false,
     "input": [
      "  "
     ],
     "language": "python",
     "outputs": [],
     "prompt_number": 9
    },
    {
     "cell_type": "code",
     "collapsed": true,
     "input": [],
     "language": "python",
     "outputs": []
    }
   ]
  }
 ]
}