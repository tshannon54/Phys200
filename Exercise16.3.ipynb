{
 "metadata": {
  "name": "Exercise16.3"
 },
 "nbformat": 3,
 "worksheets": [
  {
   "cells": [
    {
     "cell_type": "code",
     "collapsed": true,
     "input": [
      "def int_to_time(seconds):",
      "        time = Time()",
      "        minutes, time.second = divmod(seconds, 60)",
      "        time.hour, time.minute = divmod(minutes, 60)",
      "        return time"
     ],
     "language": "python",
     "outputs": [],
     "prompt_number": 42
    },
    {
     "cell_type": "code",
     "collapsed": false,
     "input": [
      "class Time(object):  # I did this exercise after doing Chapter 17 because I was having trouble figuring it out before. ",
      "    # SO this exercise is done object-oriented even though it is from chapter 16.",
      "    \"\"\"Represents the time of day.",
      "    attributes: hour, minute, second",
      "    \"\"\"",
      "    def time_to_int(self):",
      "        minutes = self.hour * 60 + self.minute",
      "        seconds = minutes * 60 + self.second",
      "        return seconds",
      "    def increment(self, seconds):   #Increment is now a method within a class.",
      "        seconds += self.time_to_int()",
      "        return int_to_time(seconds)",
      "    def print_time(self):",
      "        print '%.2d:%.2d:%.2d' % (self.hour, self.minute, self.second)",
      ""
     ],
     "language": "python",
     "outputs": [],
     "prompt_number": 48
    },
    {
     "cell_type": "code",
     "collapsed": false,
     "input": [
      "start = Time()",
      "start.hour = 9",
      "start.minute = 45",
      "start.second = 30"
     ],
     "language": "python",
     "outputs": [],
     "prompt_number": 49
    },
    {
     "cell_type": "code",
     "collapsed": false,
     "input": [
      "start.print_time()"
     ],
     "language": "python",
     "outputs": [
      {
       "output_type": "stream",
       "stream": "stdout",
       "text": [
        "09:45:30"
       ]
      }
     ],
     "prompt_number": 50
    },
    {
     "cell_type": "code",
     "collapsed": false,
     "input": [
      "time2add = int_to_time(1337)  #I am going to add 1337 or 22 minutes and 17 seconds to the time (start).",
      "time2add.print_time()"
     ],
     "language": "python",
     "outputs": [
      {
       "output_type": "stream",
       "stream": "stdout",
       "text": [
        "00:22:17"
       ]
      }
     ],
     "prompt_number": 54
    },
    {
     "cell_type": "code",
     "collapsed": false,
     "input": [
      "end = start.increment(1337)  #adding it using the method \"increment\""
     ],
     "language": "python",
     "outputs": [],
     "prompt_number": 51
    },
    {
     "cell_type": "code",
     "collapsed": false,
     "input": [
      "end.print_time()   # Can see that it sucessfully added 22 minutes and 17 seconds without a loop."
     ],
     "language": "python",
     "outputs": [
      {
       "output_type": "stream",
       "stream": "stdout",
       "text": [
        "10:07:47"
       ]
      }
     ],
     "prompt_number": 52
    },
    {
     "cell_type": "code",
     "collapsed": true,
     "input": [],
     "language": "python",
     "outputs": []
    }
   ]
  }
 ]
}