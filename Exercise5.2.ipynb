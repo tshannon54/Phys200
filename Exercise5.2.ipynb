{
 "metadata": {
  "name": "Exercise5.2"
 },
 "nbformat": 3,
 "worksheets": [
  {
   "cells": [
    {
     "cell_type": "code",
     "collapsed": false,
     "input": [
      "def is_triangle(a,b,c):",
      "    if a+b > c and b+c > a and a+c > b:",
      "        print('This combination of lengths can create a triangle!')",
      "    else:",
      "        print('This combination of lengths cannot create a triangle...')",
      "",
      "def triangle():",
      "    a = int(input('Length of the first side: ' ))",
      "    b = int(input('Length of the second side: '))",
      "    c = int(input('Length of the third side: '))",
      "  ",
      "    is_triangle(a,b,c)",
      "",
      "triangle()"
     ],
     "language": "python",
     "outputs": [
      {
       "ename": "EOFError",
       "evalue": "EOF when reading a line",
       "output_type": "pyerr",
       "traceback": [
        "\u001b[1;31m---------------------------------------------------------------------------\u001b[0m\n\u001b[1;31mEOFError\u001b[0m                                  Traceback (most recent call last)",
        "\u001b[1;32mc:\\Users\\Taylor\\Phys200\\<ipython-input-11-98e953e2b225>\u001b[0m in \u001b[0;36m<module>\u001b[1;34m()\u001b[0m\n\u001b[0;32m      5\u001b[0m         \u001b[1;32mprint\u001b[0m\u001b[1;33m(\u001b[0m\u001b[1;34m'This combination of lengths cannot create a triangle...'\u001b[0m\u001b[1;33m)\u001b[0m\u001b[1;33m\u001b[0m\u001b[0m\n\u001b[0;32m      6\u001b[0m \u001b[1;33m\u001b[0m\u001b[0m\n\u001b[1;32m----> 7\u001b[1;33m \u001b[0minput\u001b[0m\u001b[1;33m(\u001b[0m\u001b[1;34m'hello?'\u001b[0m\u001b[1;33m)\u001b[0m\u001b[1;33m\u001b[0m\u001b[0m\n\u001b[0m",
        "\u001b[1;31mEOFError\u001b[0m: EOF when reading a line"
       ]
      },
      {
       "output_type": "stream",
       "stream": "stdout",
       "text": [
        "hello?"
       ]
      }
     ],
     "prompt_number": 11
    },
    {
     "cell_type": "code",
     "collapsed": true,
     "input": [
      ""
     ],
     "language": "python",
     "outputs": [],
     "prompt_number": 1
    },
    {
     "cell_type": "code",
     "collapsed": true,
     "input": [
      ""
     ],
     "language": "python",
     "outputs": []
    }
   ]
  }
 ]
}