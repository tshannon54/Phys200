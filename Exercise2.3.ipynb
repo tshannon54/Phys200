{
 "metadata": {
  "name": "Exercise2.3"
 },
 "nbformat": 3,
 "worksheets": [
  {
   "cells": [
    {
     "cell_type": "code",
     "collapsed": false,
     "input": [
      "width = 17",
      "height = 12.0",
      "delimiter = '.'",
      "print(width/2)",
      "print(type(width/2))",
      "print(width/2.0)",
      "print(type(width/2.0))",
      "print(height/3)",
      "print(type(height/3))",
      "print(1 + 2*5)",
      "print(type(1 + 2*5))",
      "print(delimiter*5)",
      "print(type(delimiter*5))"
     ],
     "language": "python",
     "outputs": [
      {
       "output_type": "stream",
       "stream": "stdout",
       "text": [
        "8",
        "<type 'int'>",
        "8.5",
        "<type 'float'>",
        "4.0",
        "<type 'float'>",
        "11",
        "<type 'int'>",
        ".....",
        "<type 'str'>"
       ]
      }
     ],
     "prompt_number": 11
    },
    {
     "cell_type": "code",
     "collapsed": true,
     "input": [],
     "language": "python",
     "outputs": [],
     "prompt_number": 10
    },
    {
     "cell_type": "code",
     "collapsed": true,
     "input": [],
     "language": "python",
     "outputs": []
    }
   ]
  }
 ]
}