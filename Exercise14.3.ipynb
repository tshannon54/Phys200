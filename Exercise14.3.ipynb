{
 "metadata": {
  "name": "Exercise14.3"
 },
 "nbformat": 3,
 "worksheets": [
  {
   "cells": [
    {
     "cell_type": "code",
     "collapsed": true,
     "input": [
      "from anagram_sets import *"
     ],
     "language": "python",
     "outputs": [],
     "prompt_number": 12
    },
    {
     "cell_type": "code",
     "collapsed": false,
     "input": [
      "wordsss = all_anagrams('words2.txt')"
     ],
     "language": "python",
     "outputs": [],
     "prompt_number": 13
    },
    {
     "cell_type": "code",
     "collapsed": true,
     "input": [
      "import shelve",
      "import sys",
      "",
      "",
      "def store_anagrams(filename, ad):",
      "",
      "    shelf = shelve.open(filename, 'c')",
      "",
      "    for word, word_list in ad.iteritems():",
      "        shelf[word] =  word_list",
      "",
      "    shelf.close()",
      "",
      "",
      "def read_anagrams(filename, word):",
      "",
      "    shelf = shelve.open(filename)",
      "    sig = signature(word)",
      "    try:",
      "        return shelf[sig]",
      "    except KeyError:",
      "        return []"
     ],
     "language": "python",
     "outputs": [],
     "prompt_number": 14
    },
    {
     "cell_type": "code",
     "collapsed": true,
     "input": [
      "store_anagrams('words6.txt', wordsss)"
     ],
     "language": "python",
     "outputs": [],
     "prompt_number": 15
    },
    {
     "cell_type": "code",
     "collapsed": false,
     "input": [
      "read_anagrams('words6.txt', 'eflorw')"
     ],
     "language": "python",
     "outputs": [
      {
       "output_type": "pyout",
       "prompt_number": 16,
       "text": [
        "['flower']"
       ]
      }
     ],
     "prompt_number": 16
    },
    {
     "cell_type": "code",
     "collapsed": false,
     "input": [],
     "language": "python",
     "outputs": [],
     "prompt_number": 10
    },
    {
     "cell_type": "code",
     "collapsed": true,
     "input": [],
     "language": "python",
     "outputs": []
    }
   ]
  }
 ]
}