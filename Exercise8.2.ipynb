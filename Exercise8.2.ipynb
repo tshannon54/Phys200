{
 "metadata": {
  "name": "Exercise8.2"
 },
 "nbformat": 3,
 "worksheets": [
  {
   "cells": [
    {
     "cell_type": "code",
     "collapsed": false,
     "input": [
      "prefixes = 'JKLMNOPQ'",
      "suffix = 'ack'",
      "for letter in prefixes:",
      "    if letter == 'Q' or letter == 'O':",
      "        print letter + 'u' + suffix",
      "    if letter != 'Q' and letter != 'O':",
      "        print letter + suffix"
     ],
     "language": "python",
     "outputs": [
      {
       "output_type": "stream",
       "stream": "stdout",
       "text": [
        "Jack",
        "Kack",
        "Lack",
        "Mack",
        "Nack",
        "Ouack",
        "Pack",
        "Quack"
       ]
      }
     ],
     "prompt_number": 19
    },
    {
     "cell_type": "code",
     "collapsed": true,
     "input": [],
     "language": "python",
     "outputs": []
    }
   ]
  }
 ]
}