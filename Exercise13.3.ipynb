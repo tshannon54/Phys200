{
 "metadata": {
  "name": "Exercise13.3"
 },
 "nbformat": 3,
 "worksheets": [
  {
   "cells": [
    {
     "cell_type": "code",
     "collapsed": false,
     "input": [
      "from string import punctuation, whitespace, digits",
      " ",
      " ",
      "def breakfile(filename):",
      "        d= dict()",
      "        myfile = open(filename)",
      "        for line in myfile:",
      "            process_line(line, d)",
      "        return d",
      "def process_line(line, d):  ",
      "        line = line.replace('-', ' ')",
      "        for word in line.split():",
      "                word = word.strip(punctuation + whitespace + digits)",
      "                word = word.lower()",
      "                if word != '': ",
      "                        d[word] = d.get(word, 0) + 1",
      " ",
      "                ",
      "book= breakfile('theGirlWhoHadNothingBook.txt') "
     ],
     "language": "python",
     "outputs": [],
     "prompt_number": 23
    },
    {
     "cell_type": "code",
     "collapsed": true,
     "input": [
      "def sortedDictValues2(adict):   #this program sorts all the words in the list by number of times they appeared in the book",
      "    items = adict.items()",
      "    backitems=[ [v[1],v[0]] for v in items]",
      "    backitems.sort()",
      "    backitems.reverse()",
      "    return backitems"
     ],
     "language": "python",
     "outputs": [],
     "prompt_number": 24
    },
    {
     "cell_type": "code",
     "collapsed": false,
     "input": [
      "wordsinbook = sortedDictValues2(book)",
      "count = 0",
      "for word in wordsinbook:",
      "    if count<20:",
      "        print word",
      "    count += 1",
      "    ",
      "    ",
      "#these are the 20 most commonly used words in word \"The Girl Who Had Nothing,\" along with how many times each was used."
     ],
     "language": "python",
     "outputs": [
      {
       "output_type": "stream",
       "stream": "stdout",
       "text": [
        "[2001, 'the']",
        "[1248, 'to']",
        "[1120, 'and']",
        "[1007, 'a']",
        "[967, 'of']",
        "[812, 'she']",
        "[681, 'her']",
        "[649, 'was']",
        "[641, 'in']",
        "[596, 'had']",
        "[566, 'you']",
        "[513, 'i']",
        "[459, 'that']",
        "[414, 'for']",
        "[363, 'it']",
        "[354, 'as']",
        "[350, 'with']",
        "[315, 'be']",
        "[307, 'joan']",
        "[304, 'not']"
       ]
      }
     ],
     "prompt_number": 25
    },
    {
     "cell_type": "code",
     "collapsed": true,
     "input": [],
     "language": "python",
     "outputs": []
    }
   ]
  }
 ]
}