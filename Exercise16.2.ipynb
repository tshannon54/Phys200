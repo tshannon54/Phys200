{
 "metadata": {
  "name": "Exercise16.2"
 },
 "nbformat": 3,
 "worksheets": [
  {
   "cells": [
    {
     "cell_type": "code",
     "collapsed": true,
     "input": [
      "class Time(object):",
      "    \"\"\"Represents the time of day.",
      "",
      "    attributes: hour, minute, second",
      "    \"\"\""
     ],
     "language": "python",
     "outputs": [],
     "prompt_number": 52
    },
    {
     "cell_type": "code",
     "collapsed": false,
     "input": [
      "time1 = Time()",
      "time1.hour = 7",
      "time1.minute = 30",
      "time1.second = 35"
     ],
     "language": "python",
     "outputs": [],
     "prompt_number": 53
    },
    {
     "cell_type": "code",
     "collapsed": true,
     "input": [
      "time2 = Time()",
      "time2.hour = 12",
      "time2.minute = 30",
      "time2.second = 25"
     ],
     "language": "python",
     "outputs": [],
     "prompt_number": 54
    },
    {
     "cell_type": "code",
     "collapsed": true,
     "input": [
      "time3 = Time()",
      "time3.hour = 10",
      "time3.minute = 15",
      "time3.second = 5"
     ],
     "language": "python",
     "outputs": [],
     "prompt_number": 55
    },
    {
     "cell_type": "code",
     "collapsed": true,
     "input": [
      "time4 = Time()",
      "time4.hour = 10",
      "time4.minute = 15",
      "time4.second = 5"
     ],
     "language": "python",
     "outputs": [],
     "prompt_number": 56
    },
    {
     "cell_type": "code",
     "collapsed": false,
     "input": [
      "def is_after(t1, t2):  # I could not figure out how to do without if loops so I did it with them",
      "    \"\"\"Checks if t1 is a later time than t2\"\"\"",
      "",
      "    if t1.hour > t2.hour:",
      "        return True",
      "    elif t1.hour == t2.hour:",
      "        if t1.minute > t2.minute:",
      "            return True",
      "        elif t1.minute < t2.minute:",
      "            return False",
      "        elif t1.minute == t2.minute:",
      "            if t1.second > t2.second:",
      "                return True",
      "            elif t1.second == t2.second:",
      "                print 'These two times are equal'",
      "            else:",
      "                return False",
      "    else:",
      "        return False",
      "     "
     ],
     "language": "python",
     "outputs": [],
     "prompt_number": 57
    },
    {
     "cell_type": "code",
     "collapsed": false,
     "input": [
      "is_after(time1, time2) ",
      "#checking, this answer should be False, and it is"
     ],
     "language": "python",
     "outputs": [
      {
       "output_type": "pyout",
       "prompt_number": 58,
       "text": [
        "False"
       ]
      }
     ],
     "prompt_number": 58
    },
    {
     "cell_type": "code",
     "collapsed": false,
     "input": [
      "is_after(time2, time3) ",
      "#checking, this answer should be True, and it is"
     ],
     "language": "python",
     "outputs": [
      {
       "output_type": "pyout",
       "prompt_number": 59,
       "text": [
        "True"
       ]
      }
     ],
     "prompt_number": 59
    },
    {
     "cell_type": "code",
     "collapsed": false,
     "input": [
      "is_after(time3, time4) ",
      "#checking, these should be equal, and they are"
     ],
     "language": "python",
     "outputs": [
      {
       "output_type": "stream",
       "stream": "stdout",
       "text": [
        "These two times are equal"
       ]
      }
     ],
     "prompt_number": 60
    },
    {
     "cell_type": "code",
     "collapsed": false,
     "input": [
      "is_after(time1, time4) ",
      "#checking, this answer should be False, and it is"
     ],
     "language": "python",
     "outputs": [
      {
       "output_type": "pyout",
       "prompt_number": 61,
       "text": [
        "False"
       ]
      }
     ],
     "prompt_number": 61
    },
    {
     "cell_type": "code",
     "collapsed": true,
     "input": [],
     "language": "python",
     "outputs": []
    }
   ]
  }
 ]
}