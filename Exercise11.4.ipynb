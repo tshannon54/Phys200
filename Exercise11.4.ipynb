{
 "metadata": {
  "name": "Exercise11.4"
 },
 "nbformat": 3,
 "worksheets": [
  {
   "cells": [
    {
     "cell_type": "code",
     "collapsed": false,
     "input": [
      "def histogram(s):",
      "    d = dict()",
      "    for c in s:",
      "        if c not in d:",
      "            d[c] = 1",
      "        else:",
      "            d[c] += 1",
      "    return d",
      "",
      "def reverse_lookup(d, v):  #The original reverse_lookup from the chapter",
      "    for k in d:",
      "        if d[k] == v:",
      "            return k",
      "    else:",
      "        print 'yikes'"
     ],
     "language": "python",
     "outputs": [],
     "prompt_number": 10
    },
    {
     "cell_type": "code",
     "collapsed": false,
     "input": [
      "h = histogram('parrot')",
      "k = reverse_lookup(h, 2)",
      "print k"
     ],
     "language": "python",
     "outputs": [
      {
       "output_type": "stream",
       "stream": "stdout",
       "text": [
        "r"
       ]
      }
     ],
     "prompt_number": 12
    },
    {
     "cell_type": "code",
     "collapsed": false,
     "input": [
      "def reverse_lookup2(d, v):  #My reverse_lookup function",
      "    s = []",
      "    for i in d:",
      "        if d[i] == v:",
      "            s.append(i)",
      "        else:",
      "            s.append('nope')",
      "    return s"
     ],
     "language": "python",
     "outputs": [],
     "prompt_number": 34
    },
    {
     "cell_type": "code",
     "collapsed": false,
     "input": [
      "h = histogram('meeoow')",
      "reverse_lookup2(h, 2)",
      "",
      "#built a list. Both e and o have the value 2 from the histogram and were printed. For the m and w I just had the list append 'nope'"
     ],
     "language": "python",
     "outputs": [
      {
       "output_type": "pyout",
       "prompt_number": 36,
       "text": [
        "['e', 'nope', 'nope', 'o']"
       ]
      }
     ],
     "prompt_number": 36
    },
    {
     "cell_type": "code",
     "collapsed": true,
     "input": [],
     "language": "python",
     "outputs": []
    }
   ]
  }
 ]
}