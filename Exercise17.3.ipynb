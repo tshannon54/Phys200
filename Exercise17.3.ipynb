{
 "metadata": {
  "name": "Exercise17.3"
 },
 "nbformat": 3,
 "worksheets": [
  {
   "cells": [
    {
     "cell_type": "code",
     "collapsed": true,
     "input": [
      "class Point(object):",
      "    def __init__(self, x=5, y=10):  #here I defined initial attibutes of x=5 and y=10",
      "        self.x = x",
      "        self.y = y",
      "    def __str__(self):",
      "        return '%.1d is the x-component, %.1d is the y-component' %(self.x, self.y)",
      "        # I defined here what I want to print when the str method is invoked"
     ],
     "language": "python",
     "outputs": [],
     "prompt_number": 9
    },
    {
     "cell_type": "code",
     "collapsed": false,
     "input": [
      "myPoint = Point()  #this created Point object called myPoint with initial attributes",
      "print myPoint  #Python will invoke str to print below"
     ],
     "language": "python",
     "outputs": [
      {
       "output_type": "stream",
       "stream": "stdout",
       "text": [
        "5 is the x-component, 10 is the y-component"
       ]
      }
     ],
     "prompt_number": 10
    },
    {
     "cell_type": "code",
     "collapsed": true,
     "input": [],
     "language": "python",
     "outputs": []
    }
   ]
  }
 ]
}