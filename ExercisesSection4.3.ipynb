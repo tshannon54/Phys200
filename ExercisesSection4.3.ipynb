{
 "metadata": {
  "name": "ExercisesSection4.3"
 },
 "nbformat": 3,
 "worksheets": [
  {
   "cells": [
    {
     "cell_type": "code",
     "collapsed": true,
     "input": [
      "from TurtleWorld import *",
      "world = TurtleWorld()",
      "",
      "import math",
      "",
      "t = Turtle()",
      "",
      "def square(t):",
      "    for i in range(4):",
      "        fd(t, 100)",
      "        lt(t)",
      "",
      "square(t)",
      "      ",
      "def square2(t, length):",
      "    for i in range(4):",
      "        fd(t, length)",
      "        lt(t)",
      "",
      "square2(t, 90)",
      "",
      "def polygon(t, length, n):",
      "    for i in range(n):",
      "        fd(t, length)",
      "        lt(t, 360.0/n)",
      "",
      "polygon(t, 30, 5)",
      "",
      "def circle(t, r, n):",
      "    circum = 2*math.pi*r",
      "    polygon(t, circum/n, n)",
      "    ",
      "t.delay = 0.005",
      "circle(t, 80, 100)",
      "",
      "#I could not get my arc function to work and ended up following the solution",
      "",
      "def polyline(t, n, length, angle):",
      "    for i in range (n):",
      "        fd(t, length)",
      "        lt(t, angle)",
      "        ",
      "def arc(t, r, angle):",
      "    arc_length = r*angle*2*math.pi/360",
      "    n = int(arc_length/4)+1",
      "    step_length = arc_length/n",
      "    step_angle = float(angle)/n",
      "    lt(t, step_angle/2)",
      "    polyline(t, n, step_length, step_angle)",
      "    rt(t, step_angle/2)",
      "",
      "t.delay = .01",
      "arc(t, 60, 180)"
     ],
     "language": "python",
     "outputs": []
    }
   ]
  }
 ]
}