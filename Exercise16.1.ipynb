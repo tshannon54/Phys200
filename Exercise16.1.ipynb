{
 "metadata": {
  "name": "Exercise16.1"
 },
 "nbformat": 3,
 "worksheets": [
  {
   "cells": [
    {
     "cell_type": "code",
     "collapsed": true,
     "input": [
      "class Time(object):",
      "    \"\"\"Represents the time of day.",
      "",
      "    attributes: hour, minute, second",
      "    \"\"\""
     ],
     "language": "python",
     "outputs": [],
     "prompt_number": 12
    },
    {
     "cell_type": "code",
     "collapsed": true,
     "input": [
      "time = Time()",
      "time.hour = 11",
      "time.hour2 = 9",
      "time.minute = 59",
      "time.second = 30"
     ],
     "language": "python",
     "outputs": [],
     "prompt_number": 13
    },
    {
     "cell_type": "code",
     "collapsed": false,
     "input": [
      "def print_time(hour, minute, second):",
      "        print 'The time is %.2d:%.2d:%.2d.' % (hour, minute, second)"
     ],
     "language": "python",
     "outputs": [],
     "prompt_number": 19
    },
    {
     "cell_type": "code",
     "collapsed": false,
     "input": [
      "print_time(time.hour, time.minute, time.second)"
     ],
     "language": "python",
     "outputs": [
      {
       "output_type": "stream",
       "stream": "stdout",
       "text": [
        "The time is 11:59:30."
       ]
      }
     ],
     "prompt_number": 20
    },
    {
     "cell_type": "code",
     "collapsed": false,
     "input": [
      "print_time(time.hour2, time.minute, time.second) #Checked and adding an extra zero is not necessary"
     ],
     "language": "python",
     "outputs": [
      {
       "output_type": "stream",
       "stream": "stdout",
       "text": [
        "The time is 09:59:30."
       ]
      }
     ],
     "prompt_number": 21
    },
    {
     "cell_type": "code",
     "collapsed": true,
     "input": [],
     "language": "python",
     "outputs": []
    }
   ]
  }
 ]
}