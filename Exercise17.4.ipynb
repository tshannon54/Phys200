{
 "metadata": {
  "name": "Exercise17.4"
 },
 "nbformat": 3,
 "worksheets": [
  {
   "cells": [
    {
     "cell_type": "code",
     "collapsed": true,
     "input": [
      "class Point(object):",
      "    def __init__(self, x=5, y=10):  #here I defined initial attibutes of x=5 and y=10",
      "        self.x = x",
      "        self.y = y",
      "    def __str__(self):",
      "        return '%.1d is the x-component, %.1d is the y-component' %(self.x, self.y)",
      "        # I defined here what I want to print when the str method is invoked",
      "    def __add__(self, num):",
      "        self.x = self.x + num",
      "        self.y = self.y + num",
      "        "
     ],
     "language": "python",
     "outputs": [],
     "prompt_number": 24
    },
    {
     "cell_type": "code",
     "collapsed": false,
     "input": [
      "myPoint = Point()",
      "#this created Point object called myPoint with initial attributes",
      "myPoint + 5",
      "print myPoint"
     ],
     "language": "python",
     "outputs": [
      {
       "output_type": "stream",
       "stream": "stdout",
       "text": [
        "10 is the x-component, 15 is the y-component"
       ]
      }
     ],
     "prompt_number": 25
    },
    {
     "cell_type": "code",
     "collapsed": true,
     "input": [
      "# you can see that it added 5 to each component as expected"
     ],
     "language": "python",
     "outputs": [],
     "prompt_number": 20
    }
   ]
  }
 ]
}