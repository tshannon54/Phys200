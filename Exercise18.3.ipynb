{
 "metadata": {
  "name": "Exercise18.3"
 },
 "nbformat": 3,
 "worksheets": [
  {
   "cells": [
    {
     "cell_type": "code",
     "collapsed": true,
     "input": [
      "class Card(object):",
      "    \"\"\"Represents a standard playing card.\"\"\"",
      "    ",
      "    def __init__(self, suit=0, rank=2):",
      "        self.suit = suit",
      "        self.rank = rank",
      "    ",
      "    suit_names = ['Clubs', 'Diamonds', 'Hearts', 'Spades']",
      "    rank_names = [None, 'Ace', '2', '3', '4', '5', '6', '7', '8', '9', '10', 'Jack', 'Queen', 'King']",
      "    ",
      "    def __str__(self):",
      "        return '%s of %s' % (Card.rank_names[self.rank], Card.suit_names[self.suit])",
      "    ",
      "    def __cmp__(self, other):",
      "        if self.suit > other.suit: return 1",
      "        if self.suit < other.suit: return -1",
      "        if self.rank > other.rank: return 1",
      "        if self.rank < other.rank: return -1",
      "        return 0"
     ],
     "language": "python",
     "outputs": [],
     "prompt_number": 1
    },
    {
     "cell_type": "code",
     "collapsed": true,
     "input": [
      "class Hand(Deck):",
      "    \"\"\"Represents a hand of playing cards.\"\"\"",
      "    ",
      "    def __init__(self, label=''):",
      "        self.cards = []",
      "        self.label = label"
     ],
     "language": "python",
     "outputs": [],
     "prompt_number": 95
    },
    {
     "cell_type": "code",
     "collapsed": true,
     "input": [
      "import random",
      "",
      "class Deck(object):",
      "    def __init__(self):",
      "        self.cards = []",
      "        for suit in range(4):",
      "            for rank in range(1, 14):",
      "                card = Card(suit, rank)",
      "                self.cards.append(card)",
      "    ",
      "    def __str__(self):",
      "        res = []",
      "        for card in self.cards:",
      "            res.append(str(card))",
      "        return '\\n'.join(res)",
      "    ",
      "    def pop_card(self):",
      "        return self.cards.pop()",
      "    ",
      "    def add_card(self, card):",
      "        self.cards.append(card)",
      "        ",
      "    def shuffle(self):",
      "        random.shuffle(self.cards)",
      "    ",
      "    def sort(self):",
      "        self.cards.sort()",
      "    ",
      "    def move_cards(self, hand, num):",
      "        for i in range(num):",
      "            hand.add_card(self.pop_card())",
      "    ",
      "    def deal_hands(self, numhands, numcards):",
      "        Hands = []",
      "        aNewHand = Hand()",
      "        aNewHand.__init__()",
      "        print aNewHand",
      "        for num in range(numhands):",
      "            Hands.append(aNewHand)",
      "        for i in Hands:",
      "            for j in range(numcards):",
      "                card = Card()",
      "                card = self.pop_card()",
      "                i.cards.append(card)",
      "                print i",
      "        return Hands",
      "            ",
      "            "
     ],
     "language": "python",
     "outputs": [],
     "prompt_number": 153
    },
    {
     "cell_type": "code",
     "collapsed": false,
     "input": [
      "mydeck = Deck()",
      "mydeck.shuffle()",
      "mydeck.deal_hands(1,5)",
      "#Okay it clearly has some issues because it is dealing 3x the cards I want it to, but I will have to come back to it."
     ],
     "language": "python",
     "outputs": [
      {
       "output_type": "stream",
       "stream": "stdout",
       "text": [
        "",
        "6 of Clubs",
        "6 of Clubs",
        "4 of Hearts",
        "6 of Clubs",
        "4 of Hearts",
        "6 of Diamonds",
        "6 of Clubs",
        "4 of Hearts",
        "6 of Diamonds",
        "2 of Spades",
        "6 of Clubs",
        "4 of Hearts",
        "6 of Diamonds",
        "2 of Spades",
        "5 of Diamonds"
       ]
      },
      {
       "output_type": "pyout",
       "prompt_number": 154,
       "text": [
        "[<__main__.Hand at 0x3da5110>]"
       ]
      }
     ],
     "prompt_number": 154
    },
    {
     "cell_type": "code",
     "collapsed": false,
     "input": [],
     "language": "python",
     "outputs": [],
     "prompt_number": 137
    },
    {
     "cell_type": "code",
     "collapsed": false,
     "input": [],
     "language": "python",
     "outputs": [
      {
       "output_type": "stream",
       "stream": "stdout",
       "text": [
        ""
       ]
      }
     ],
     "prompt_number": 17
    },
    {
     "cell_type": "code",
     "collapsed": true,
     "input": [],
     "language": "python",
     "outputs": []
    }
   ]
  }
 ]
}