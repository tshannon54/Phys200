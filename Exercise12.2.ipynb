{
 "metadata": {
  "name": "Exercise12.2"
 },
 "nbformat": 3,
 "worksheets": [
  {
   "cells": [
    {
     "cell_type": "code",
     "collapsed": false,
     "input": [
      "import random",
      "def sort_by_length(*words):",
      "    t = []",
      "    for word in words:",
      "        t.append((len(word), random.random(), word))",
      "    t.sort(reverse=True)",
      "    res = []",
      "    for length, _,word in t: ",
      "        res.append(word)",
      "    return res"
     ],
     "language": "python",
     "outputs": [],
     "prompt_number": 26
    },
    {
     "cell_type": "code",
     "collapsed": false,
     "input": [
      "sort_by_length('apple', 'elephant', 'peanut', 'cucumber', 'mom', 'wow', 'dad')"
     ],
     "language": "python",
     "outputs": [
      {
       "output_type": "pyout",
       "prompt_number": 29,
       "text": [
        "['cucumber', 'elephant', 'peanut', 'apple', 'wow', 'mom', 'dad']"
       ]
      }
     ],
     "prompt_number": 29
    },
    {
     "cell_type": "code",
     "collapsed": false,
     "input": [
      "sort_by_length('apple', 'elephant', 'peanut', 'cucumber', 'mom', 'wow', 'dad')"
     ],
     "language": "python",
     "outputs": [
      {
       "output_type": "pyout",
       "prompt_number": 30,
       "text": [
        "['cucumber', 'elephant', 'peanut', 'apple', 'wow', 'dad', 'mom']"
       ]
      }
     ],
     "prompt_number": 30
    },
    {
     "cell_type": "code",
     "collapsed": true,
     "input": [
      "#The last three words, all of the same length, changed order in the second run, so the random function is working."
     ],
     "language": "python",
     "outputs": [],
     "prompt_number": 31
    },
    {
     "cell_type": "code",
     "collapsed": true,
     "input": [],
     "language": "python",
     "outputs": []
    }
   ]
  }
 ]
}