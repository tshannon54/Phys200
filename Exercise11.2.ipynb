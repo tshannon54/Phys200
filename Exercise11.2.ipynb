{
 "metadata": {
  "name": "Exercise11.2"
 },
 "nbformat": 3,
 "worksheets": [
  {
   "cells": [
    {
     "cell_type": "code",
     "collapsed": true,
     "input": [
      "def histogram(s):",
      "    d = dict()",
      "    for letter in s:",
      "        d[letter] = d.get(letter,0)+1",
      "    print d",
      "  "
     ],
     "language": "python",
     "outputs": [],
     "prompt_number": 123
    },
    {
     "cell_type": "code",
     "collapsed": false,
     "input": [
      "histogram('scissors')"
     ],
     "language": "python",
     "outputs": [
      {
       "output_type": "stream",
       "stream": "stdout",
       "text": [
        "{'i': 1, 's': 4, 'r': 1, 'c': 1, 'o': 1}"
       ]
      }
     ],
     "prompt_number": 126
    },
    {
     "cell_type": "code",
     "collapsed": false,
     "input": [
      "histogram('jello')"
     ],
     "language": "python",
     "outputs": [
      {
       "output_type": "stream",
       "stream": "stdout",
       "text": [
        "{'j': 1, 'e': 1, 'l': 2, 'o': 1}"
       ]
      }
     ],
     "prompt_number": 128
    },
    {
     "cell_type": "code",
     "collapsed": true,
     "input": [],
     "language": "python",
     "outputs": []
    }
   ]
  }
 ]
}