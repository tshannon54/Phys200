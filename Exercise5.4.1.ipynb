{
 "metadata": {
  "name": "Exercise5.4.1"
 },
 "nbformat": 3,
 "worksheets": [
  {
   "cells": [
    {
     "cell_type": "code",
     "collapsed": true,
     "input": [
      "from TurtleWorld import *",
      "",
      "world = TurtleWorld()",
      "",
      "t = Turtle()",
      "",
      "",
      "def koch(t,length):",
      "    if length<3 :",
      "        fd(t,length)",
      "        return",
      "    koch(t,length/3.0)",
      "    lt(t,60)",
      "    koch(t,length/3.0)",
      "    rt(t,120)",
      "    koch(t,length/3.0)",
      "    lt(t,60)",
      "    koch(t,length/3.0)",
      "",
      "t.delay = 0.01",
      "koch(t, 150)"
     ],
     "language": "python",
     "outputs": []
    }
   ]
  }
 ]
}