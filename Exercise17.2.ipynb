{
 "metadata": {
  "name": "Exercise17.2"
 },
 "nbformat": 3,
 "worksheets": [
  {
   "cells": [
    {
     "cell_type": "code",
     "collapsed": true,
     "input": [
      "class Point(object):",
      "    def __init__(self, x=0, y=0):",
      "        self.x = x",
      "        self.y = y",
      "        "
     ],
     "language": "python",
     "outputs": [],
     "prompt_number": 1
    },
    {
     "cell_type": "code",
     "collapsed": false,
     "input": [
      "myPoint = Point()",
      "myPoint.x, myPoint.y  #It assigned myPoint the initial attributes defined in the class"
     ],
     "language": "python",
     "outputs": [
      {
       "output_type": "pyout",
       "prompt_number": 8,
       "text": [
        "(0, 0)"
       ]
      }
     ],
     "prompt_number": 8
    },
    {
     "cell_type": "code",
     "collapsed": true,
     "input": [
      "class Point2(object):",
      "    def __init__(self, x=5, y=5):",
      "        self.x = x",
      "        self.y = y"
     ],
     "language": "python",
     "outputs": [],
     "prompt_number": 10
    },
    {
     "cell_type": "code",
     "collapsed": false,
     "input": [
      "myPoint2 = Point2()  #In Point2 class I set the initial attributes to be x=5 and y=5 and you can see that it assigned myPoint2 these attributes.",
      "myPoint2.x, myPoint2.y"
     ],
     "language": "python",
     "outputs": [
      {
       "output_type": "pyout",
       "prompt_number": 12,
       "text": [
        "(5, 5)"
       ]
      }
     ],
     "prompt_number": 12
    },
    {
     "cell_type": "code",
     "collapsed": true,
     "input": [],
     "language": "python",
     "outputs": [],
     "prompt_number": 12
    }
   ]
  }
 ]
}