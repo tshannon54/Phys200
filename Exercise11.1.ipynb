{
 "metadata": {
  "name": "Exercise11.1"
 },
 "nbformat": 3,
 "worksheets": [
  {
   "cells": [
    {
     "cell_type": "code",
     "collapsed": false,
     "input": [
      "def words_list(document):",
      "    listowords = dict()",
      "    docum = open(document)",
      "    for line in docum:",
      "        word = line.strip()",
      "        listowords = {word}",
      "        print listowords",
      "        if 'apples' in listowords:  #I think this is an okay way to ensure that it was created as a key",
      "            print 'apples is a key'",
      "        if 'pinapple' in listowords:",
      "            print 'pinapple is a key'",
      "        "
     ],
     "language": "python",
     "outputs": [],
     "prompt_number": 44
    },
    {
     "cell_type": "code",
     "collapsed": false,
     "input": [
      "words_list('words.txt')  #I created a text document called words.txt that has 8 fruits listed and am testing the function with it"
     ],
     "language": "python",
     "outputs": [
      {
       "output_type": "stream",
       "stream": "stdout",
       "text": [
        "set(['apples'])",
        "apples is a key",
        "set(['oranges'])",
        "set(['grapes'])",
        "set(['pears'])",
        "set(['kiwis'])",
        "set(['watermelons'])",
        "set(['mangos'])",
        "set(['pinapple'])",
        "pinapple is a key"
       ]
      }
     ],
     "prompt_number": 45
    },
    {
     "cell_type": "code",
     "collapsed": false,
     "input": [],
     "language": "python",
     "outputs": [],
     "prompt_number": 33
    },
    {
     "cell_type": "code",
     "collapsed": false,
     "input": [],
     "language": "python",
     "outputs": [],
     "prompt_number": 4
    },
    {
     "cell_type": "code",
     "collapsed": false,
     "input": [],
     "language": "python",
     "outputs": [],
     "prompt_number": 5
    },
    {
     "cell_type": "code",
     "collapsed": true,
     "input": [],
     "language": "python",
     "outputs": []
    }
   ]
  }
 ]
}