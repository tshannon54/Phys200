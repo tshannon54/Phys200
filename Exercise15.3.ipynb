{
 "metadata": {
  "name": "Exercise15.3"
 },
 "nbformat": 3,
 "worksheets": [
  {
   "cells": [
    {
     "cell_type": "code",
     "collapsed": true,
     "input": [
      "class Rectangle(object):",
      "    \"\"\"info\"\"\""
     ],
     "language": "python",
     "outputs": [],
     "prompt_number": 22
    },
    {
     "cell_type": "code",
     "collapsed": true,
     "input": [
      "class Point(object):",
      "    \"\"\"info\"\"\""
     ],
     "language": "python",
     "outputs": [],
     "prompt_number": 23
    },
    {
     "cell_type": "code",
     "collapsed": true,
     "input": [
      "box = Rectangle()",
      "box.width = 100.0",
      "box.height = 200.0",
      "box.corner = Point()",
      "box.corner.x = 0.0",
      "box.corner.y = 0.0"
     ],
     "language": "python",
     "outputs": [],
     "prompt_number": 24
    },
    {
     "cell_type": "code",
     "collapsed": true,
     "input": [
      "import copy",
      "def move_rectangle(rect, dx, dy):",
      "    rect2 = Rectangle()",
      "    rect2.corner = copy.copy(rect.corner)",
      "    rect2.corner.x += dx",
      "    rect2.corner.y += dy",
      "    print rect2.corner.x",
      "    print rect2.corner.y",
      "    print rect.corner.x",
      "    print rect.corner.y"
     ],
     "language": "python",
     "outputs": [],
     "prompt_number": 25
    },
    {
     "cell_type": "code",
     "collapsed": false,
     "input": [
      "move_rectangle(box, 2, 5)"
     ],
     "language": "python",
     "outputs": [
      {
       "output_type": "stream",
       "stream": "stdout",
       "text": [
        "2.0",
        "5.0",
        "0.0",
        "0.0"
       ]
      }
     ],
     "prompt_number": 26
    },
    {
     "cell_type": "code",
     "collapsed": false,
     "input": [
      "# As you can see by output above, it only moved the corners of the copy (rect2) but the corners of box remained at zero."
     ],
     "language": "python",
     "outputs": [],
     "prompt_number": 8
    },
    {
     "cell_type": "code",
     "collapsed": true,
     "input": [],
     "language": "python",
     "outputs": []
    }
   ]
  }
 ]
}