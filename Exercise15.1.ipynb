{
 "metadata": {
  "name": "Exercise15.1"
 },
 "nbformat": 3,
 "worksheets": [
  {
   "cells": [
    {
     "cell_type": "code",
     "collapsed": false,
     "input": [
      "import math",
      "class Point(object):",
      " \"\"\"Represents a point in 2-D space.\"\"\"",
      "def distance_between_points((onex, oney), (twox, twoy)):",
      "    ans = math.sqrt((twox-onex)**2 + (twoy-oney)**2)",
      "    print ans",
      "    "
     ],
     "language": "python",
     "outputs": [],
     "prompt_number": 13
    },
    {
     "cell_type": "code",
     "collapsed": false,
     "input": [
      "first = Point()",
      "second = Point()",
      "first.x = 2",
      "first.y = 2",
      "second.x = 3",
      "second.y = 3",
      "distance_between_points((first.x, first.y), (second.x, second.y))"
     ],
     "language": "python",
     "outputs": [
      {
       "output_type": "stream",
       "stream": "stdout",
       "text": [
        "1.41421356237"
       ]
      }
     ],
     "prompt_number": 14
    },
    {
     "cell_type": "code",
     "collapsed": true,
     "input": [],
     "language": "python",
     "outputs": []
    }
   ]
  }
 ]
}