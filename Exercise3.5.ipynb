{
 "metadata": {
  "name": "Exercise3.5"
 },
 "nbformat": 3,
 "worksheets": [
  {
   "cells": [
    {
     "cell_type": "code",
     "collapsed": false,
     "input": [
      "def print_beam():",
      "    print '+ - - - -',",
      " ",
      "def print_post():",
      "    print '|        ',",
      "    ",
      "def do_twice(f):",
      "    f()",
      "    f()",
      " ",
      "def print_beams():",
      "    do_twice(print_beam)",
      "    print '+'",
      " ",
      "def print_posts():",
      "    do_twice(print_post)",
      "    print '|'",
      "",
      "def do_four(f):",
      "    do_twice(f)",
      "    do_twice(f)",
      " ",
      "def print_row():",
      "    print_beams()",
      "    do_four(print_posts)",
      " ",
      "def print_grid():",
      "    do_twice(print_row)",
      "    print_beams()",
      " ",
      "print_grid()"
     ],
     "language": "python",
     "outputs": [
      {
       "output_type": "stream",
       "stream": "stdout",
       "text": [
        "+ - - - - + - - - - +",
        "|         |         |",
        "|         |         |",
        "|         |         |",
        "|         |         |",
        "+ - - - - + - - - - +",
        "|         |         |",
        "|         |         |",
        "|         |         |",
        "|         |         |",
        "+ - - - - + - - - - +"
       ]
      }
     ],
     "prompt_number": 6
    },
    {
     "cell_type": "code",
     "collapsed": true,
     "input": [],
     "language": "python",
     "outputs": []
    }
   ]
  }
 ]
}