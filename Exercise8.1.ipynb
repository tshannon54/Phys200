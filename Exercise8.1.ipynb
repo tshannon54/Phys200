{
 "metadata": {
  "name": "Exercise8.1"
 },
 "nbformat": 3,
 "worksheets": [
  {
   "cells": [
    {
     "cell_type": "code",
     "collapsed": false,
     "input": [
      "fruit = 'watermelon'",
      "index = -1",
      "while index > (-1*len(fruit)-1):",
      "    letter = fruit[index]",
      "    print letter",
      "    index = index-1"
     ],
     "language": "python",
     "outputs": [
      {
       "output_type": "stream",
       "stream": "stdout",
       "text": [
        "n",
        "o",
        "l",
        "e",
        "m",
        "r",
        "e",
        "t",
        "a",
        "w"
       ]
      }
     ],
     "prompt_number": 11
    },
    {
     "cell_type": "code",
     "collapsed": true,
     "input": [],
     "language": "python",
     "outputs": []
    }
   ]
  }
 ]
}