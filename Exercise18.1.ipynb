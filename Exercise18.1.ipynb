{
 "metadata": {
  "name": "Exercise18.1"
 },
 "nbformat": 3,
 "worksheets": [
  {
   "cells": [
    {
     "cell_type": "code",
     "collapsed": true,
     "input": [
      "class Time(object):",
      "    def __init__(self, hour=12, minute=0, second=0):  ",
      "        #I created it so that the initial time created by class will be 12:00:00",
      "        self.hour = hour",
      "        self.minute = minute",
      "        self.second = second",
      "    ",
      "    def __str__(self):",
      "        return '%.2d:%.2d:%.2d is the time' %(self.hour, self.minute, self.second)",
      "    ",
      "    def time_to_int(self): ",
      "        minutes = self.hour * 60 + self.minute",
      "        seconds = minutes * 60 + self.second",
      "        return seconds",
      "        #I included the time_to_int function from previous chapters that I will use in my comparison",
      "    ",
      "    def __cmp__(self, other):",
      "        #My compare function compares converts the two times to integers and then compares them",
      "        t1 = self.time_to_int()",
      "        t2 = other.time_to_int()",
      "        return cmp(t1, t2)",
      "    ",
      "    "
     ],
     "language": "python",
     "outputs": [],
     "prompt_number": 20
    },
    {
     "cell_type": "code",
     "collapsed": true,
     "input": [
      "thetime = Time()"
     ],
     "language": "python",
     "outputs": [],
     "prompt_number": 21
    },
    {
     "cell_type": "code",
     "collapsed": false,
     "input": [
      "print thetime #Checking to make sure initialization worked"
     ],
     "language": "python",
     "outputs": [
      {
       "output_type": "stream",
       "stream": "stdout",
       "text": [
        "12:00:00 is the time"
       ]
      }
     ],
     "prompt_number": 22
    },
    {
     "cell_type": "code",
     "collapsed": false,
     "input": [
      "thetime2 = Time()",
      "thetime2.hour = 12",
      "thetime2.minute = 30",
      "thetime2.second = 30",
      "print thetime2",
      "",
      "thetime3 = Time()",
      "thetime3.hour = 11",
      "thetime3.minute = 59",
      "thetime3.second = 59",
      "print thetime3",
      "",
      "#Here I created two more times to compare and printed them"
     ],
     "language": "python",
     "outputs": [
      {
       "output_type": "stream",
       "stream": "stdout",
       "text": [
        "12:30:30 is the time",
        "11:59:59 is the time"
       ]
      }
     ],
     "prompt_number": 31
    },
    {
     "cell_type": "code",
     "collapsed": false,
     "input": [
      "cmp(thetime, thetime2)  #Compared 12:00:00 to 12:30:30 and it returned -1 so the first was less than the second which is correct."
     ],
     "language": "python",
     "outputs": [
      {
       "output_type": "pyout",
       "prompt_number": 24,
       "text": [
        "-1"
       ]
      }
     ],
     "prompt_number": 24
    },
    {
     "cell_type": "code",
     "collapsed": false,
     "input": [
      "cmp(thetime, thetime3)"
     ],
     "language": "python",
     "outputs": [
      {
       "output_type": "pyout",
       "prompt_number": 32,
       "text": [
        "1"
       ]
      }
     ],
     "prompt_number": 32
    },
    {
     "cell_type": "code",
     "collapsed": true,
     "input": [
      "#Compared 12:00:00 to 11:59:59 and it returned 1 so the first was greater than the second which is correct."
     ],
     "language": "python",
     "outputs": []
    }
   ]
  }
 ]
}